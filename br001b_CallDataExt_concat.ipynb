{
 "cells": [
  {
   "cell_type": "code",
   "execution_count": 1,
   "metadata": {
    "collapsed": true
   },
   "outputs": [],
   "source": [
    "import numpy as np\n",
    "import pandas as pd\n",
    "from datetime import datetime\n",
    "from time import strftime\n",
    "#import pandas_datareader.data as web\n",
    "import warnings\n",
    "warnings.filterwarnings('ignore')\n",
    "import os\n",
    "\n",
    "os.chdir('C:/BankRisk')  # set directory for working data files here "
   ]
  },
  {
   "cell_type": "code",
   "execution_count": 2,
   "metadata": {
    "collapsed": false
   },
   "outputs": [
    {
     "data": {
      "text/html": [
       "<div>\n",
       "<table border=\"1\" class=\"dataframe\">\n",
       "  <thead>\n",
       "    <tr style=\"text-align: right;\">\n",
       "      <th></th>\n",
       "      <th>IDRSSD</th>\n",
       "      <th>AsOf</th>\n",
       "      <th>Name</th>\n",
       "      <th>State</th>\n",
       "      <th>Cert</th>\n",
       "      <th>eTotAst</th>\n",
       "      <th>eTotLn</th>\n",
       "      <th>eALLL</th>\n",
       "      <th>eOREO</th>\n",
       "      <th>eGW</th>\n",
       "      <th>...</th>\n",
       "      <th>ncoFIfor</th>\n",
       "      <th>ncoAg</th>\n",
       "      <th>ncoCIdom</th>\n",
       "      <th>ncoCIfor</th>\n",
       "      <th>ncoCard</th>\n",
       "      <th>ncoAuto</th>\n",
       "      <th>ncoOthCsmr</th>\n",
       "      <th>ncoForGovt</th>\n",
       "      <th>ncoOthLn</th>\n",
       "      <th>ncoLeas</th>\n",
       "    </tr>\n",
       "  </thead>\n",
       "  <tbody>\n",
       "    <tr>\n",
       "      <th>0</th>\n",
       "      <td>37</td>\n",
       "      <td>2001-03-31</td>\n",
       "      <td>BANK OF HANCOCK COUNTY</td>\n",
       "      <td>GA</td>\n",
       "      <td>10057</td>\n",
       "      <td>65486.0</td>\n",
       "      <td>40507.0</td>\n",
       "      <td>979.0</td>\n",
       "      <td>200.0</td>\n",
       "      <td>0.0</td>\n",
       "      <td>...</td>\n",
       "      <td>0.0</td>\n",
       "      <td>0.0</td>\n",
       "      <td>0.0</td>\n",
       "      <td>0.0</td>\n",
       "      <td>0.0</td>\n",
       "      <td>0</td>\n",
       "      <td>-1.0</td>\n",
       "      <td>0.0</td>\n",
       "      <td>0.0</td>\n",
       "      <td>0.0</td>\n",
       "    </tr>\n",
       "    <tr>\n",
       "      <th>1</th>\n",
       "      <td>242</td>\n",
       "      <td>2001-03-31</td>\n",
       "      <td>FIRST NATIONAL BANK OF XENIA, THE</td>\n",
       "      <td>IL</td>\n",
       "      <td>3850</td>\n",
       "      <td>23537.0</td>\n",
       "      <td>12897.0</td>\n",
       "      <td>127.0</td>\n",
       "      <td>0.0</td>\n",
       "      <td>0.0</td>\n",
       "      <td>...</td>\n",
       "      <td>0.0</td>\n",
       "      <td>0.0</td>\n",
       "      <td>0.0</td>\n",
       "      <td>0.0</td>\n",
       "      <td>0.0</td>\n",
       "      <td>0</td>\n",
       "      <td>-2.0</td>\n",
       "      <td>0.0</td>\n",
       "      <td>0.0</td>\n",
       "      <td>0.0</td>\n",
       "    </tr>\n",
       "  </tbody>\n",
       "</table>\n",
       "<p>2 rows × 192 columns</p>\n",
       "</div>"
      ],
      "text/plain": [
       "   IDRSSD       AsOf                               Name State   Cert  eTotAst  \\\n",
       "0      37 2001-03-31             BANK OF HANCOCK COUNTY    GA  10057  65486.0   \n",
       "1     242 2001-03-31  FIRST NATIONAL BANK OF XENIA, THE    IL   3850  23537.0   \n",
       "\n",
       "    eTotLn  eALLL  eOREO  eGW   ...     ncoFIfor  ncoAg  ncoCIdom  ncoCIfor  \\\n",
       "0  40507.0  979.0  200.0  0.0   ...          0.0    0.0       0.0       0.0   \n",
       "1  12897.0  127.0    0.0  0.0   ...          0.0    0.0       0.0       0.0   \n",
       "\n",
       "   ncoCard  ncoAuto  ncoOthCsmr  ncoForGovt  ncoOthLn  ncoLeas  \n",
       "0      0.0        0        -1.0         0.0       0.0      0.0  \n",
       "1      0.0        0        -2.0         0.0       0.0      0.0  \n",
       "\n",
       "[2 rows x 192 columns]"
      ]
     },
     "execution_count": 2,
     "metadata": {},
     "output_type": "execute_result"
    }
   ],
   "source": [
    "dg2a = pd.read_csv(\"df2_2001_2009.csv\")\n",
    "dg2a['AsOf'] = pd.to_datetime(dg2a['AsOf'])\n",
    "dg2a.head(2)"
   ]
  },
  {
   "cell_type": "code",
   "execution_count": 5,
   "metadata": {
    "collapsed": false
   },
   "outputs": [
    {
     "data": {
      "text/html": [
       "<div>\n",
       "<table border=\"1\" class=\"dataframe\">\n",
       "  <thead>\n",
       "    <tr style=\"text-align: right;\">\n",
       "      <th></th>\n",
       "      <th>IDRSSD</th>\n",
       "      <th>AsOf</th>\n",
       "      <th>Name</th>\n",
       "      <th>State</th>\n",
       "      <th>Cert</th>\n",
       "      <th>eTotAst</th>\n",
       "      <th>eTotLn</th>\n",
       "      <th>eALLL</th>\n",
       "      <th>eOREO</th>\n",
       "      <th>eGW</th>\n",
       "      <th>...</th>\n",
       "      <th>ncoFIfor</th>\n",
       "      <th>ncoAg</th>\n",
       "      <th>ncoCIdom</th>\n",
       "      <th>ncoCIfor</th>\n",
       "      <th>ncoCard</th>\n",
       "      <th>ncoAuto</th>\n",
       "      <th>ncoOthCsmr</th>\n",
       "      <th>ncoForGovt</th>\n",
       "      <th>ncoOthLn</th>\n",
       "      <th>ncoLeas</th>\n",
       "    </tr>\n",
       "  </thead>\n",
       "  <tbody>\n",
       "    <tr>\n",
       "      <th>165104</th>\n",
       "      <td>4536084</td>\n",
       "      <td>2015-12-31</td>\n",
       "      <td>BANK OF BIRD-IN-HAND</td>\n",
       "      <td>PA</td>\n",
       "      <td>59074</td>\n",
       "      <td>119957.0</td>\n",
       "      <td>104643.0</td>\n",
       "      <td>1299.0</td>\n",
       "      <td>0.0</td>\n",
       "      <td>0.0</td>\n",
       "      <td>...</td>\n",
       "      <td>0.0</td>\n",
       "      <td>0.0</td>\n",
       "      <td>0.0</td>\n",
       "      <td>0.0</td>\n",
       "      <td>0.0</td>\n",
       "      <td>0.0</td>\n",
       "      <td>0.0</td>\n",
       "      <td>0.0</td>\n",
       "      <td>0.0</td>\n",
       "      <td>0.0</td>\n",
       "    </tr>\n",
       "    <tr>\n",
       "      <th>165105</th>\n",
       "      <td>4845861</td>\n",
       "      <td>2015-12-31</td>\n",
       "      <td>PRIMARY BANK</td>\n",
       "      <td>NH</td>\n",
       "      <td>59086</td>\n",
       "      <td>36441.0</td>\n",
       "      <td>7683.0</td>\n",
       "      <td>100.0</td>\n",
       "      <td>0.0</td>\n",
       "      <td>0.0</td>\n",
       "      <td>...</td>\n",
       "      <td>0.0</td>\n",
       "      <td>0.0</td>\n",
       "      <td>0.0</td>\n",
       "      <td>0.0</td>\n",
       "      <td>0.0</td>\n",
       "      <td>0.0</td>\n",
       "      <td>0.0</td>\n",
       "      <td>0.0</td>\n",
       "      <td>0.0</td>\n",
       "      <td>0.0</td>\n",
       "    </tr>\n",
       "  </tbody>\n",
       "</table>\n",
       "<p>2 rows × 192 columns</p>\n",
       "</div>"
      ],
      "text/plain": [
       "         IDRSSD       AsOf                  Name State   Cert   eTotAst  \\\n",
       "165104  4536084 2015-12-31  BANK OF BIRD-IN-HAND    PA  59074  119957.0   \n",
       "165105  4845861 2015-12-31          PRIMARY BANK    NH  59086   36441.0   \n",
       "\n",
       "          eTotLn   eALLL  eOREO  eGW   ...     ncoFIfor  ncoAg  ncoCIdom  \\\n",
       "165104  104643.0  1299.0    0.0  0.0   ...          0.0    0.0       0.0   \n",
       "165105    7683.0   100.0    0.0  0.0   ...          0.0    0.0       0.0   \n",
       "\n",
       "        ncoCIfor  ncoCard  ncoAuto  ncoOthCsmr  ncoForGovt  ncoOthLn  ncoLeas  \n",
       "165104       0.0      0.0      0.0         0.0         0.0       0.0      0.0  \n",
       "165105       0.0      0.0      0.0         0.0         0.0       0.0      0.0  \n",
       "\n",
       "[2 rows x 192 columns]"
      ]
     },
     "execution_count": 5,
     "metadata": {},
     "output_type": "execute_result"
    }
   ],
   "source": [
    "dg2b = pd.read_csv(\"df2_2010_2015.csv\")\n",
    "dg2b['AsOf'] = pd.to_datetime(dg2b['AsOf'])\n",
    "dg2b.tail(2)"
   ]
  },
  {
   "cell_type": "code",
   "execution_count": 6,
   "metadata": {
    "collapsed": false
   },
   "outputs": [
    {
     "data": {
      "text/plain": [
       "(291793, 165106)"
      ]
     },
     "execution_count": 6,
     "metadata": {},
     "output_type": "execute_result"
    }
   ],
   "source": [
    "len(dg2a), len(dg2b)"
   ]
  },
  {
   "cell_type": "code",
   "execution_count": 7,
   "metadata": {
    "collapsed": false
   },
   "outputs": [
    {
     "data": {
      "text/plain": [
       "456899"
      ]
     },
     "execution_count": 7,
     "metadata": {},
     "output_type": "execute_result"
    }
   ],
   "source": [
    "dg2 = pd.concat([dg2a,dg2b],ignore_index=True)\n",
    "len(dg2)"
   ]
  },
  {
   "cell_type": "code",
   "execution_count": null,
   "metadata": {
    "collapsed": true
   },
   "outputs": [],
   "source": [
    "#if htyp == 'nohist':\n",
    "#  rk = pd.read_csv(\"BkAvgAstPR_FailDt_BHC_tic.csv\", index_col=0)  # 20160325 nohist version\n",
    "#else:\n",
    "#  rk = pd.read_csv(\"BkAvgAstPR_FailDt_BHC_BkClass_ult2.csv\", index_col=0)  # 4/11/16: updated table (fixed Parentname fields)\n",
    "\n",
    "#rk['xAsOf'] = pd.to_datetime(rk['xAsOf'])\n",
    "#rk['nAsOf'] = pd.to_datetime(rk['nAsOf'])\n",
    "#rk['FailDate'] = pd.to_datetime(rk['FailDate'])\n",
    "#htyp"
   ]
  },
  {
   "cell_type": "code",
   "execution_count": 8,
   "metadata": {
    "collapsed": true
   },
   "outputs": [],
   "source": [
    "dg2.to_csv(\"df2_2001_2015.csv\")"
   ]
  },
  {
   "cell_type": "code",
   "execution_count": null,
   "metadata": {
    "collapsed": true
   },
   "outputs": [],
   "source": []
  }
 ],
 "metadata": {
  "kernelspec": {
   "display_name": "Python 3",
   "language": "python",
   "name": "python3"
  },
  "language_info": {
   "codemirror_mode": {
    "name": "ipython",
    "version": 3
   },
   "file_extension": ".py",
   "mimetype": "text/x-python",
   "name": "python",
   "nbconvert_exporter": "python",
   "pygments_lexer": "ipython3",
   "version": "3.5.1"
  }
 },
 "nbformat": 4,
 "nbformat_minor": 0
}
